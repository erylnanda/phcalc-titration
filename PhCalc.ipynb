{
  "nbformat": 4,
  "nbformat_minor": 0,
  "metadata": {
    "colab": {
      "provenance": []
    },
    "kernelspec": {
      "name": "python3",
      "display_name": "Python 3"
    },
    "language_info": {
      "name": "python"
    }
  },
  "cells": [
    {
      "cell_type": "code",
      "source": [
        "!pip install git+https://github.com/rnelsonchem/pHcalc.git"
      ],
      "metadata": {
        "colab": {
          "base_uri": "https://localhost:8080/"
        },
        "id": "BWjjvzFXtNpR",
        "outputId": "b6dfcf8b-d0ac-4539-d151-f095a0b448d0"
      },
      "execution_count": 1,
      "outputs": [
        {
          "output_type": "stream",
          "name": "stdout",
          "text": [
            "Looking in indexes: https://pypi.org/simple, https://us-python.pkg.dev/colab-wheels/public/simple/\n",
            "Collecting git+https://github.com/rnelsonchem/pHcalc.git\n",
            "  Cloning https://github.com/rnelsonchem/pHcalc.git to /tmp/pip-req-build-u4c0hatv\n",
            "  Running command git clone --filter=blob:none --quiet https://github.com/rnelsonchem/pHcalc.git /tmp/pip-req-build-u4c0hatv\n",
            "  Resolved https://github.com/rnelsonchem/pHcalc.git to commit 0deb203b08881266fcf9326cb656d8e36f61410e\n",
            "  Preparing metadata (setup.py) ... \u001b[?25l\u001b[?25hdone\n",
            "Requirement already satisfied: numpy>=1.10.0 in /usr/local/lib/python3.8/dist-packages (from pHcalc==0.1.2) (1.21.6)\n",
            "Requirement already satisfied: scipy>=0.17.0 in /usr/local/lib/python3.8/dist-packages (from pHcalc==0.1.2) (1.7.3)\n"
          ]
        }
      ]
    },
    {
      "cell_type": "code",
      "execution_count": 2,
      "metadata": {
        "id": "UkVE1TfXtFaw"
      },
      "outputs": [],
      "source": [
        "from pHcalc.pHcalc import Acid, Neutral, System\n",
        "import numpy as np\n",
        "import matplotlib.pyplot as plt # Optional for plotting below"
      ]
    },
    {
      "cell_type": "markdown",
      "source": [
        "##pH of 0.01 M HCl"
      ],
      "metadata": {
        "id": "R3aSC8CDvYqN"
      }
    },
    {
      "cell_type": "code",
      "source": [
        "cl = Neutral(charge=-1, conc=0.01)\n",
        "system = System(cl)\n",
        "system.pHsolve()\n",
        "print(system.pH) # Should print 1.9999"
      ],
      "metadata": {
        "colab": {
          "base_uri": "https://localhost:8080/"
        },
        "id": "6SPaGslTvuNc",
        "outputId": "018a84f4-f86f-41de-f8c8-d2d71e02a5b8"
      },
      "execution_count": 3,
      "outputs": [
        {
          "output_type": "stream",
          "name": "stdout",
          "text": [
            "1.9999977111816385\n"
          ]
        }
      ]
    },
    {
      "cell_type": "markdown",
      "source": [
        "##pH of 1e-8 M HCl"
      ],
      "metadata": {
        "id": "x4E8B6T3wQB4"
      }
    },
    {
      "cell_type": "code",
      "source": [
        "cl = Neutral(charge=-1, conc=1e-8)\n",
        "system = System(cl)\n",
        "system.pHsolve()\n",
        "print(system.pH) # Should print 6.978295898 (NOT 8!)"
      ],
      "metadata": {
        "colab": {
          "base_uri": "https://localhost:8080/"
        },
        "id": "GPjiW8p2tU4i",
        "outputId": "982dda0b-3c3e-41f6-b424-e4aa6cbc002b"
      },
      "execution_count": 4,
      "outputs": [
        {
          "output_type": "stream",
          "name": "stdout",
          "text": [
            "6.9782958984375005\n"
          ]
        }
      ]
    },
    {
      "cell_type": "markdown",
      "source": [
        "##pH of 0.01 M NaOH"
      ],
      "metadata": {
        "id": "sIK7-KQ3wVXc"
      }
    },
    {
      "cell_type": "code",
      "source": [
        "na = Neutral(charge=1, conc=0.01)\n",
        "system = System(na)\n",
        "system.pHsolve()\n",
        "print(system.pH) # Should print 12.00000"
      ],
      "metadata": {
        "colab": {
          "base_uri": "https://localhost:8080/"
        },
        "id": "AB2OBDv3v8Pk",
        "outputId": "576abb18-208c-4ada-a094-b01aaa10b11d"
      },
      "execution_count": 5,
      "outputs": [
        {
          "output_type": "stream",
          "name": "stdout",
          "text": [
            "12.000002288818362\n"
          ]
        }
      ]
    },
    {
      "cell_type": "markdown",
      "source": [
        "##pH of 0.01 M HF"
      ],
      "metadata": {
        "id": "yaNYw-GXwXDq"
      }
    },
    {
      "cell_type": "code",
      "source": [
        "hf = Acid(Ka=6.76e-4, charge=0, conc=0.01)\n",
        "# hf = Acid(pKa=3.17, charge=0, conc=0.01) will also work\n",
        "system = System(hf)\n",
        "system.pHsolve()\n",
        "print(system.pH) # Should print 2.6413261"
      ],
      "metadata": {
        "colab": {
          "base_uri": "https://localhost:8080/"
        },
        "id": "MRMGl4ucwA1f",
        "outputId": "fa4c6381-5c0a-4ab9-ee65-4158043a110a"
      },
      "execution_count": 6,
      "outputs": [
        {
          "output_type": "stream",
          "name": "stdout",
          "text": [
            "2.6413261413574203\n"
          ]
        }
      ]
    },
    {
      "cell_type": "markdown",
      "source": [
        "##pH of 0.01 M H2CO3"
      ],
      "metadata": {
        "id": "ndULZAi0wXg7"
      }
    },
    {
      "cell_type": "code",
      "source": [
        "carbonic = Acid(pKa=[3.6, 10.32], charge=0, conc=0.01)\n",
        "system = System(carbonic)\n",
        "system.pHsolve()\n",
        "print(system.pH) # Should print 2.8343772"
      ],
      "metadata": {
        "colab": {
          "base_uri": "https://localhost:8080/"
        },
        "id": "5-ywEWU5wCta",
        "outputId": "bdb86998-f901-422c-8fa0-6ca69a08e639"
      },
      "execution_count": 7,
      "outputs": [
        {
          "output_type": "stream",
          "name": "stdout",
          "text": [
            "2.8343772888183576\n"
          ]
        }
      ]
    },
    {
      "cell_type": "markdown",
      "source": [
        "##pH of 0.01 M NaF"
      ],
      "metadata": {
        "id": "6JCAqV72wu7j"
      }
    },
    {
      "cell_type": "code",
      "source": [
        "hf = Acid(Ka=6.76e-4, charge=0, conc=0.01)\n",
        "na = Neutral(charge=1, conc=0.01)\n",
        "system = System(hf, na)\n",
        "system.pHsolve()\n",
        "print(system.pH) # Should print 7.5992233"
      ],
      "metadata": {
        "colab": {
          "base_uri": "https://localhost:8080/"
        },
        "id": "aTcs7NYTwu8L",
        "outputId": "6bda0c88-8d5d-4848-bfa9-97d5ea0c8644"
      },
      "execution_count": 8,
      "outputs": [
        {
          "output_type": "stream",
          "name": "stdout",
          "text": [
            "7.59922332763672\n"
          ]
        }
      ]
    },
    {
      "cell_type": "markdown",
      "source": [
        "##pH of 0.01 M Alanine Zwitterion Form"
      ],
      "metadata": {
        "id": "7dVxnrvawvIk"
      }
    },
    {
      "cell_type": "code",
      "source": [
        "ala = Acid(pKa=[2.35, 9.69], charge=1, conc=0.01)\n",
        "system = System(ala)\n",
        "system.pHsolve()\n",
        "print(system.pH) # Should print 6.0991569"
      ],
      "metadata": {
        "colab": {
          "base_uri": "https://localhost:8080/"
        },
        "id": "RKQiHMYNwvIl",
        "outputId": "93f1fc7f-2c54-4323-c508-0cbf37130c3f"
      },
      "execution_count": 9,
      "outputs": [
        {
          "output_type": "stream",
          "name": "stdout",
          "text": [
            "6.099156951904295\n"
          ]
        }
      ]
    },
    {
      "cell_type": "markdown",
      "source": [
        "##pH of 0.01 M (NH4)3PO4"
      ],
      "metadata": {
        "id": "IZc4JMHmwvZP"
      }
    },
    {
      "cell_type": "code",
      "source": [
        "phos = Acid(pKa=[2.148, 7.198, 12.319], charge=0, conc=0.01)\n",
        "nh4 = Acid(pKa=9.25, charge=1, conc=0.01*3)\n",
        "system = System(phos, nh4)\n",
        "system.pHsolve()\n",
        "print(system.pH) # Should print 8.95915298"
      ],
      "metadata": {
        "colab": {
          "base_uri": "https://localhost:8080/"
        },
        "id": "8g6Yk0KEwvZQ",
        "outputId": "f419722e-1b10-429e-9b21-81b5645f6e36"
      },
      "execution_count": 10,
      "outputs": [
        {
          "output_type": "stream",
          "name": "stdout",
          "text": [
            "8.95915298461914\n"
          ]
        }
      ]
    },
    {
      "cell_type": "markdown",
      "source": [
        "##Distribution Diagrams"
      ],
      "metadata": {
        "id": "jg8f0H_nwvpI"
      }
    },
    {
      "cell_type": "code",
      "source": [
        "phos = Acid(pKa=[2.148, 7.198, 12.319], charge=0, conc=0.01)\n",
        "phos.alpha(7.0) \n",
        "np.array([ 8.6055e-06, 6.1204e-01, 3.8795e-01, 1.8611e-06])\n",
        "# This is H3PO4, H2PO4-, HPO4_2-, and HPO4_3-"
      ],
      "metadata": {
        "colab": {
          "base_uri": "https://localhost:8080/"
        },
        "id": "nvtH5zGcwvpJ",
        "outputId": "414d9ead-fce2-4d18-d9f8-91ccf9d07afb"
      },
      "execution_count": 14,
      "outputs": [
        {
          "output_type": "execute_result",
          "data": {
            "text/plain": [
              "array([8.6055e-06, 6.1204e-01, 3.8795e-01, 1.8611e-06])"
            ]
          },
          "metadata": {},
          "execution_count": 14
        }
      ]
    },
    {
      "cell_type": "code",
      "source": [
        "phos = Acid(pKa=[2.148, 7.198, 12.319], charge=0, conc=0.01)\n",
        "phs = np.linspace(0, 14, 1000)\n",
        "fracs = phos.alpha(phs)\n",
        "plt.plot(phs, fracs)\n",
        "plt.show()"
      ],
      "metadata": {
        "colab": {
          "base_uri": "https://localhost:8080/",
          "height": 265
        },
        "id": "1aQMBiP9xBxI",
        "outputId": "e8cd5797-025f-42fa-d188-30a114706d74"
      },
      "execution_count": 15,
      "outputs": [
        {
          "output_type": "display_data",
          "data": {
            "text/plain": [
              "<Figure size 432x288 with 1 Axes>"
            ],
            "image/png": "[encoded data removed]"
          },
          "metadata": {
            "needs_background": "light"
          }
        }
      ]
    },
    {
      "cell_type": "markdown",
      "source": [
        "##Titration Curves"
      ],
      "metadata": {
        "id": "ncUbQo11wv1R"
      }
    },
    {
      "cell_type": "code",
      "source": [
        "na_moles = np.linspace(1e-8, 5.e-3, 500)\n",
        "sol_volume = 1. # Liter\n",
        "phos = Acid(pKa=[2.148, 7.198, 12.375], charge=0, conc=1.e-3)\n",
        "phs = []\n",
        "for mol in na_moles:\n",
        "    na = Neutral(charge=1, conc=mol/sol_volume)\n",
        "    system = System(phos, na)\n",
        "    system.pHsolve(guess_est=True)\n",
        "    phs.append(system.pH)\n",
        "plt.plot(na_moles, phs)\n",
        "plt.show()"
      ],
      "metadata": {
        "colab": {
          "base_uri": "https://localhost:8080/",
          "height": 265
        },
        "id": "NMeY94miwv1T",
        "outputId": "ba8bc969-f60a-4ace-c05a-641ce248f857"
      },
      "execution_count": 16,
      "outputs": [
        {
          "output_type": "display_data",
          "data": {
            "text/plain": [
              "<Figure size 432x288 with 1 Axes>"
            ],
            "image/png": "[encoded data removed]"
          },
          "metadata": {
            "needs_background": "light"
          }
        }
      ]
    }
  ]
}